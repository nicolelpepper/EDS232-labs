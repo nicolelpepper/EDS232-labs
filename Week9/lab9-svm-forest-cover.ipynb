{
 "cells": [
  {
   "cell_type": "markdown",
   "metadata": {},
   "source": [
    "## Lab 9: Predicting Forest Cover Type with SVMs"
   ]
  },
  {
   "cell_type": "markdown",
   "metadata": {},
   "source": [
    "### Introduction\n",
    "In this lab, we will explore the application of Support Vector Machines (SVMs) and Random Forests (RFs) for multi-class classification using cartographic variables. Specifically, we will predict forest cover type based on a variety of environmental features such as elevation, soil type, and land aspect.\n",
    "\n",
    "Understanding forest cover classification is crucial for natural resource management. Land managers and conservationists rely on accurate predictions of vegetation types to make informed decisions about wildlife habitats, fire management, and sustainable forestry practices. However, direct field assessments of forest cover can be costly and time-consuming, making predictive models a valuable tool for estimating cover types in large or inaccessible regions.\n",
    "\n",
    "Dataset info here: https://archive.ics.uci.edu/dataset/31/covertype\n"
   ]
  },
  {
   "cell_type": "markdown",
   "metadata": {},
   "source": [
    "### Step 0: Load Libraries and Data"
   ]
  },
  {
   "cell_type": "code",
   "execution_count": 1,
   "metadata": {
    "tags": []
   },
   "outputs": [],
   "source": [
    "import numpy as np\n",
    "import pandas as pd\n",
    "import time\n",
    "from sklearn.model_selection import train_test_split, StratifiedKFold, GridSearchCV\n",
    "from sklearn.preprocessing import StandardScaler\n",
    "from sklearn.svm import SVC\n",
    "from sklearn.ensemble import RandomForestClassifier\n",
    "from sklearn.metrics import accuracy_score, confusion_matrix\n",
    "import matplotlib.pyplot as plt\n",
    "import seaborn as sns\n",
    "\n",
    "# Load the dataset\n",
    "df = pd.read_csv(\"/courses/EDS232/Data/covtype_sample.csv\")"
   ]
  },
  {
   "cell_type": "code",
   "execution_count": 2,
   "metadata": {
    "tags": []
   },
   "outputs": [
    {
     "data": {
      "text/html": [
       "<div>\n",
       "<style scoped>\n",
       "    .dataframe tbody tr th:only-of-type {\n",
       "        vertical-align: middle;\n",
       "    }\n",
       "\n",
       "    .dataframe tbody tr th {\n",
       "        vertical-align: top;\n",
       "    }\n",
       "\n",
       "    .dataframe thead th {\n",
       "        text-align: right;\n",
       "    }\n",
       "</style>\n",
       "<table border=\"1\" class=\"dataframe\">\n",
       "  <thead>\n",
       "    <tr style=\"text-align: right;\">\n",
       "      <th></th>\n",
       "      <th>Elevation</th>\n",
       "      <th>Aspect</th>\n",
       "      <th>Slope</th>\n",
       "      <th>Horizontal_Distance_To_Hydrology</th>\n",
       "      <th>Horizontal_Distance_To_Roadways</th>\n",
       "      <th>Hillshade_9am</th>\n",
       "      <th>Hillshade_Noon</th>\n",
       "      <th>Hillshade_3pm</th>\n",
       "      <th>Horizontal_Distance_To_Fire_Points</th>\n",
       "      <th>Wilderness_Area_Rawah</th>\n",
       "      <th>...</th>\n",
       "      <th>Soil_Type_32</th>\n",
       "      <th>Soil_Type_33</th>\n",
       "      <th>Soil_Type_34</th>\n",
       "      <th>Soil_Type_35</th>\n",
       "      <th>Soil_Type_36</th>\n",
       "      <th>Soil_Type_37</th>\n",
       "      <th>Soil_Type_38</th>\n",
       "      <th>Soil_Type_39</th>\n",
       "      <th>Soil_Type_40</th>\n",
       "      <th>Cover_Type</th>\n",
       "    </tr>\n",
       "  </thead>\n",
       "  <tbody>\n",
       "    <tr>\n",
       "      <th>0</th>\n",
       "      <td>3136</td>\n",
       "      <td>228</td>\n",
       "      <td>7</td>\n",
       "      <td>810</td>\n",
       "      <td>-7</td>\n",
       "      <td>6329</td>\n",
       "      <td>210</td>\n",
       "      <td>247</td>\n",
       "      <td>174</td>\n",
       "      <td>1307</td>\n",
       "      <td>...</td>\n",
       "      <td>0</td>\n",
       "      <td>0</td>\n",
       "      <td>0</td>\n",
       "      <td>0</td>\n",
       "      <td>0</td>\n",
       "      <td>0</td>\n",
       "      <td>0</td>\n",
       "      <td>0</td>\n",
       "      <td>0</td>\n",
       "      <td>2</td>\n",
       "    </tr>\n",
       "    <tr>\n",
       "      <th>1</th>\n",
       "      <td>2898</td>\n",
       "      <td>129</td>\n",
       "      <td>12</td>\n",
       "      <td>201</td>\n",
       "      <td>4</td>\n",
       "      <td>853</td>\n",
       "      <td>240</td>\n",
       "      <td>233</td>\n",
       "      <td>121</td>\n",
       "      <td>2550</td>\n",
       "      <td>...</td>\n",
       "      <td>1</td>\n",
       "      <td>0</td>\n",
       "      <td>0</td>\n",
       "      <td>0</td>\n",
       "      <td>0</td>\n",
       "      <td>0</td>\n",
       "      <td>0</td>\n",
       "      <td>0</td>\n",
       "      <td>0</td>\n",
       "      <td>2</td>\n",
       "    </tr>\n",
       "    <tr>\n",
       "      <th>2</th>\n",
       "      <td>2765</td>\n",
       "      <td>74</td>\n",
       "      <td>16</td>\n",
       "      <td>268</td>\n",
       "      <td>134</td>\n",
       "      <td>2850</td>\n",
       "      <td>237</td>\n",
       "      <td>208</td>\n",
       "      <td>98</td>\n",
       "      <td>6452</td>\n",
       "      <td>...</td>\n",
       "      <td>0</td>\n",
       "      <td>0</td>\n",
       "      <td>0</td>\n",
       "      <td>0</td>\n",
       "      <td>0</td>\n",
       "      <td>0</td>\n",
       "      <td>0</td>\n",
       "      <td>0</td>\n",
       "      <td>0</td>\n",
       "      <td>2</td>\n",
       "    </tr>\n",
       "    <tr>\n",
       "      <th>3</th>\n",
       "      <td>3078</td>\n",
       "      <td>189</td>\n",
       "      <td>10</td>\n",
       "      <td>582</td>\n",
       "      <td>-39</td>\n",
       "      <td>2554</td>\n",
       "      <td>221</td>\n",
       "      <td>247</td>\n",
       "      <td>160</td>\n",
       "      <td>1463</td>\n",
       "      <td>...</td>\n",
       "      <td>0</td>\n",
       "      <td>0</td>\n",
       "      <td>0</td>\n",
       "      <td>0</td>\n",
       "      <td>0</td>\n",
       "      <td>0</td>\n",
       "      <td>0</td>\n",
       "      <td>0</td>\n",
       "      <td>0</td>\n",
       "      <td>2</td>\n",
       "    </tr>\n",
       "    <tr>\n",
       "      <th>4</th>\n",
       "      <td>3141</td>\n",
       "      <td>159</td>\n",
       "      <td>11</td>\n",
       "      <td>466</td>\n",
       "      <td>-33</td>\n",
       "      <td>1080</td>\n",
       "      <td>231</td>\n",
       "      <td>242</td>\n",
       "      <td>141</td>\n",
       "      <td>1120</td>\n",
       "      <td>...</td>\n",
       "      <td>0</td>\n",
       "      <td>0</td>\n",
       "      <td>0</td>\n",
       "      <td>0</td>\n",
       "      <td>0</td>\n",
       "      <td>0</td>\n",
       "      <td>0</td>\n",
       "      <td>0</td>\n",
       "      <td>0</td>\n",
       "      <td>2</td>\n",
       "    </tr>\n",
       "    <tr>\n",
       "      <th>...</th>\n",
       "      <td>...</td>\n",
       "      <td>...</td>\n",
       "      <td>...</td>\n",
       "      <td>...</td>\n",
       "      <td>...</td>\n",
       "      <td>...</td>\n",
       "      <td>...</td>\n",
       "      <td>...</td>\n",
       "      <td>...</td>\n",
       "      <td>...</td>\n",
       "      <td>...</td>\n",
       "      <td>...</td>\n",
       "      <td>...</td>\n",
       "      <td>...</td>\n",
       "      <td>...</td>\n",
       "      <td>...</td>\n",
       "      <td>...</td>\n",
       "      <td>...</td>\n",
       "      <td>...</td>\n",
       "      <td>...</td>\n",
       "      <td>...</td>\n",
       "    </tr>\n",
       "    <tr>\n",
       "      <th>9995</th>\n",
       "      <td>2815</td>\n",
       "      <td>63</td>\n",
       "      <td>13</td>\n",
       "      <td>182</td>\n",
       "      <td>51</td>\n",
       "      <td>1707</td>\n",
       "      <td>231</td>\n",
       "      <td>214</td>\n",
       "      <td>113</td>\n",
       "      <td>1308</td>\n",
       "      <td>...</td>\n",
       "      <td>0</td>\n",
       "      <td>0</td>\n",
       "      <td>0</td>\n",
       "      <td>0</td>\n",
       "      <td>0</td>\n",
       "      <td>0</td>\n",
       "      <td>0</td>\n",
       "      <td>0</td>\n",
       "      <td>0</td>\n",
       "      <td>2</td>\n",
       "    </tr>\n",
       "    <tr>\n",
       "      <th>9996</th>\n",
       "      <td>3540</td>\n",
       "      <td>123</td>\n",
       "      <td>19</td>\n",
       "      <td>330</td>\n",
       "      <td>106</td>\n",
       "      <td>2680</td>\n",
       "      <td>248</td>\n",
       "      <td>222</td>\n",
       "      <td>95</td>\n",
       "      <td>2171</td>\n",
       "      <td>...</td>\n",
       "      <td>0</td>\n",
       "      <td>0</td>\n",
       "      <td>0</td>\n",
       "      <td>0</td>\n",
       "      <td>0</td>\n",
       "      <td>0</td>\n",
       "      <td>0</td>\n",
       "      <td>0</td>\n",
       "      <td>1</td>\n",
       "      <td>1</td>\n",
       "    </tr>\n",
       "    <tr>\n",
       "      <th>9997</th>\n",
       "      <td>2885</td>\n",
       "      <td>23</td>\n",
       "      <td>17</td>\n",
       "      <td>351</td>\n",
       "      <td>66</td>\n",
       "      <td>1595</td>\n",
       "      <td>208</td>\n",
       "      <td>202</td>\n",
       "      <td>127</td>\n",
       "      <td>2837</td>\n",
       "      <td>...</td>\n",
       "      <td>0</td>\n",
       "      <td>1</td>\n",
       "      <td>0</td>\n",
       "      <td>0</td>\n",
       "      <td>0</td>\n",
       "      <td>0</td>\n",
       "      <td>0</td>\n",
       "      <td>0</td>\n",
       "      <td>0</td>\n",
       "      <td>2</td>\n",
       "    </tr>\n",
       "    <tr>\n",
       "      <th>9998</th>\n",
       "      <td>3011</td>\n",
       "      <td>171</td>\n",
       "      <td>10</td>\n",
       "      <td>579</td>\n",
       "      <td>95</td>\n",
       "      <td>5700</td>\n",
       "      <td>227</td>\n",
       "      <td>245</td>\n",
       "      <td>150</td>\n",
       "      <td>3323</td>\n",
       "      <td>...</td>\n",
       "      <td>0</td>\n",
       "      <td>0</td>\n",
       "      <td>0</td>\n",
       "      <td>0</td>\n",
       "      <td>0</td>\n",
       "      <td>0</td>\n",
       "      <td>0</td>\n",
       "      <td>0</td>\n",
       "      <td>0</td>\n",
       "      <td>2</td>\n",
       "    </tr>\n",
       "    <tr>\n",
       "      <th>9999</th>\n",
       "      <td>3130</td>\n",
       "      <td>22</td>\n",
       "      <td>16</td>\n",
       "      <td>404</td>\n",
       "      <td>71</td>\n",
       "      <td>4935</td>\n",
       "      <td>208</td>\n",
       "      <td>205</td>\n",
       "      <td>130</td>\n",
       "      <td>2914</td>\n",
       "      <td>...</td>\n",
       "      <td>0</td>\n",
       "      <td>0</td>\n",
       "      <td>0</td>\n",
       "      <td>0</td>\n",
       "      <td>0</td>\n",
       "      <td>0</td>\n",
       "      <td>0</td>\n",
       "      <td>0</td>\n",
       "      <td>0</td>\n",
       "      <td>1</td>\n",
       "    </tr>\n",
       "  </tbody>\n",
       "</table>\n",
       "<p>10000 rows × 55 columns</p>\n",
       "</div>"
      ],
      "text/plain": [
       "      Elevation  Aspect  Slope  Horizontal_Distance_To_Hydrology  \\\n",
       "0          3136     228      7                               810   \n",
       "1          2898     129     12                               201   \n",
       "2          2765      74     16                               268   \n",
       "3          3078     189     10                               582   \n",
       "4          3141     159     11                               466   \n",
       "...         ...     ...    ...                               ...   \n",
       "9995       2815      63     13                               182   \n",
       "9996       3540     123     19                               330   \n",
       "9997       2885      23     17                               351   \n",
       "9998       3011     171     10                               579   \n",
       "9999       3130      22     16                               404   \n",
       "\n",
       "      Horizontal_Distance_To_Roadways  Hillshade_9am  Hillshade_Noon  \\\n",
       "0                                  -7           6329             210   \n",
       "1                                   4            853             240   \n",
       "2                                 134           2850             237   \n",
       "3                                 -39           2554             221   \n",
       "4                                 -33           1080             231   \n",
       "...                               ...            ...             ...   \n",
       "9995                               51           1707             231   \n",
       "9996                              106           2680             248   \n",
       "9997                               66           1595             208   \n",
       "9998                               95           5700             227   \n",
       "9999                               71           4935             208   \n",
       "\n",
       "      Hillshade_3pm  Horizontal_Distance_To_Fire_Points  \\\n",
       "0               247                                 174   \n",
       "1               233                                 121   \n",
       "2               208                                  98   \n",
       "3               247                                 160   \n",
       "4               242                                 141   \n",
       "...             ...                                 ...   \n",
       "9995            214                                 113   \n",
       "9996            222                                  95   \n",
       "9997            202                                 127   \n",
       "9998            245                                 150   \n",
       "9999            205                                 130   \n",
       "\n",
       "      Wilderness_Area_Rawah  ...  Soil_Type_32  Soil_Type_33  Soil_Type_34  \\\n",
       "0                      1307  ...             0             0             0   \n",
       "1                      2550  ...             1             0             0   \n",
       "2                      6452  ...             0             0             0   \n",
       "3                      1463  ...             0             0             0   \n",
       "4                      1120  ...             0             0             0   \n",
       "...                     ...  ...           ...           ...           ...   \n",
       "9995                   1308  ...             0             0             0   \n",
       "9996                   2171  ...             0             0             0   \n",
       "9997                   2837  ...             0             1             0   \n",
       "9998                   3323  ...             0             0             0   \n",
       "9999                   2914  ...             0             0             0   \n",
       "\n",
       "      Soil_Type_35  Soil_Type_36  Soil_Type_37  Soil_Type_38  Soil_Type_39  \\\n",
       "0                0             0             0             0             0   \n",
       "1                0             0             0             0             0   \n",
       "2                0             0             0             0             0   \n",
       "3                0             0             0             0             0   \n",
       "4                0             0             0             0             0   \n",
       "...            ...           ...           ...           ...           ...   \n",
       "9995             0             0             0             0             0   \n",
       "9996             0             0             0             0             0   \n",
       "9997             0             0             0             0             0   \n",
       "9998             0             0             0             0             0   \n",
       "9999             0             0             0             0             0   \n",
       "\n",
       "      Soil_Type_40  Cover_Type  \n",
       "0                0           2  \n",
       "1                0           2  \n",
       "2                0           2  \n",
       "3                0           2  \n",
       "4                0           2  \n",
       "...            ...         ...  \n",
       "9995             0           2  \n",
       "9996             1           1  \n",
       "9997             0           2  \n",
       "9998             0           2  \n",
       "9999             0           1  \n",
       "\n",
       "[10000 rows x 55 columns]"
      ]
     },
     "execution_count": 2,
     "metadata": {},
     "output_type": "execute_result"
    }
   ],
   "source": [
    "df"
   ]
  },
  {
   "cell_type": "markdown",
   "metadata": {},
   "source": [
    "### Step 1: Data Preprocessing \n",
    "\n",
    "Before building our classification models, we need to prepare the dataset by separating the features target variable (`Cover_Type`) and  splitting the data into training and test sets. \n",
    "\n",
    "We didn't explicitly discuss it in lecture, but SVMs are sensitive to feature scale.  Use `describe()` to summarize the dataset.  Do you see anything that would require scaling of the data?  If so, apply that transformation."
   ]
  },
  {
   "cell_type": "code",
   "execution_count": 3,
   "metadata": {
    "tags": []
   },
   "outputs": [],
   "source": [
    "# ---- Data preprocessing ----\n",
    "pd.set_option(\"display.max.columns\", None)\n",
    "\n",
    "# ---- Define target variable ----\n",
    "y = df['Cover_Type']\n",
    "X = df.drop('Cover_Type',\n",
    "            axis = 1)"
   ]
  },
  {
   "cell_type": "code",
   "execution_count": 4,
   "metadata": {
    "tags": []
   },
   "outputs": [
    {
     "name": "stdout",
     "output_type": "stream",
     "text": [
      "          Elevation        Aspect         Slope  \\\n",
      "count  10000.000000  10000.000000  10000.000000   \n",
      "mean    2955.599500    154.450000     14.114700   \n",
      "std      281.786673    111.851861      7.499705   \n",
      "min     1860.000000      0.000000      0.000000   \n",
      "25%     2804.750000     58.000000      9.000000   \n",
      "50%     2995.000000    126.000000     13.000000   \n",
      "75%     3159.000000    258.000000     18.000000   \n",
      "max     3846.000000    359.000000     65.000000   \n",
      "\n",
      "       Horizontal_Distance_To_Hydrology  Horizontal_Distance_To_Roadways  \\\n",
      "count                      10000.000000                     10000.000000   \n",
      "mean                         268.097600                        45.755300   \n",
      "std                          211.899673                        58.034207   \n",
      "min                            0.000000                      -164.000000   \n",
      "25%                           95.000000                         7.000000   \n",
      "50%                          218.000000                        29.000000   \n",
      "75%                          384.000000                        68.000000   \n",
      "max                         1243.000000                       427.000000   \n",
      "\n",
      "       Hillshade_9am  Hillshade_Noon  Hillshade_3pm  \\\n",
      "count   10000.000000     10000.00000   10000.000000   \n",
      "mean     2319.360300       212.19660     223.113500   \n",
      "std      1548.558651        26.98846      19.871067   \n",
      "min         0.000000        68.00000      71.000000   \n",
      "25%      1091.750000       198.00000     213.000000   \n",
      "50%      1977.000000       218.00000     226.000000   \n",
      "75%      3279.000000       231.00000     237.000000   \n",
      "max      7078.000000       254.00000     254.000000   \n",
      "\n",
      "       Horizontal_Distance_To_Fire_Points  Wilderness_Area_Rawah  \\\n",
      "count                        10000.000000           10000.000000   \n",
      "mean                           142.243800            1960.040200   \n",
      "std                             37.799752            1320.535941   \n",
      "min                              0.000000               0.000000   \n",
      "25%                            119.000000            1006.000000   \n",
      "50%                            142.000000            1699.000000   \n",
      "75%                            168.000000            2524.000000   \n",
      "max                            246.000000            7111.000000   \n",
      "\n",
      "       Wilderness_Area_Neota  Wilderness_Area_Comanche  \\\n",
      "count           10000.000000              10000.000000   \n",
      "mean                0.447600                  0.047000   \n",
      "std                 0.497272                  0.211649   \n",
      "min                 0.000000                  0.000000   \n",
      "25%                 0.000000                  0.000000   \n",
      "50%                 0.000000                  0.000000   \n",
      "75%                 1.000000                  0.000000   \n",
      "max                 1.000000                  1.000000   \n",
      "\n",
      "       Wilderness_Area_Poudre     Soil_Type   Soil_Type_1   Soil_Type_2  \\\n",
      "count            10000.000000  10000.000000  10000.000000  10000.000000   \n",
      "mean                 0.438300      0.067100      0.006000      0.010500   \n",
      "std                  0.496203      0.250208      0.077231      0.101935   \n",
      "min                  0.000000      0.000000      0.000000      0.000000   \n",
      "25%                  0.000000      0.000000      0.000000      0.000000   \n",
      "50%                  0.000000      0.000000      0.000000      0.000000   \n",
      "75%                  1.000000      0.000000      0.000000      0.000000   \n",
      "max                  1.000000      1.000000      1.000000      1.000000   \n",
      "\n",
      "       Soil_Type_3   Soil_Type_4   Soil_Type_5   Soil_Type_6   Soil_Type_7  \\\n",
      "count  10000.00000  10000.000000  10000.000000  10000.000000  10000.000000   \n",
      "mean       0.00840      0.019800      0.003200      0.013100      0.000200   \n",
      "std        0.09127      0.139319      0.056481      0.113709      0.014141   \n",
      "min        0.00000      0.000000      0.000000      0.000000      0.000000   \n",
      "25%        0.00000      0.000000      0.000000      0.000000      0.000000   \n",
      "50%        0.00000      0.000000      0.000000      0.000000      0.000000   \n",
      "75%        0.00000      0.000000      0.000000      0.000000      0.000000   \n",
      "max        1.00000      1.000000      1.000000      1.000000      1.000000   \n",
      "\n",
      "        Soil_Type_8  Soil_Type_9  Soil_Type_10  Soil_Type_11  Soil_Type_12  \\\n",
      "count  10000.000000  10000.00000  10000.000000  10000.000000  10000.000000   \n",
      "mean       0.000300      0.00190      0.057000      0.023200      0.049100   \n",
      "std        0.017319      0.04355      0.231854      0.150546      0.216088   \n",
      "min        0.000000      0.00000      0.000000      0.000000      0.000000   \n",
      "25%        0.000000      0.00000      0.000000      0.000000      0.000000   \n",
      "50%        0.000000      0.00000      0.000000      0.000000      0.000000   \n",
      "75%        0.000000      0.00000      0.000000      0.000000      0.000000   \n",
      "max        1.000000      1.00000      1.000000      1.000000      1.000000   \n",
      "\n",
      "       Soil_Type_13  Soil_Type_14  Soil_Type_15  Soil_Type_16  Soil_Type_17  \\\n",
      "count  10000.000000  10000.000000       10000.0  10000.000000  10000.000000   \n",
      "mean       0.028800      0.001500           0.0      0.005300      0.006600   \n",
      "std        0.167252      0.038703           0.0      0.072612      0.080976   \n",
      "min        0.000000      0.000000           0.0      0.000000      0.000000   \n",
      "25%        0.000000      0.000000           0.0      0.000000      0.000000   \n",
      "50%        0.000000      0.000000           0.0      0.000000      0.000000   \n",
      "75%        0.000000      0.000000           0.0      0.000000      0.000000   \n",
      "max        1.000000      1.000000           0.0      1.000000      1.000000   \n",
      "\n",
      "       Soil_Type_18  Soil_Type_19  Soil_Type_20  Soil_Type_21  Soil_Type_22  \\\n",
      "count  10000.000000  10000.000000  10000.000000   10000.00000  10000.000000   \n",
      "mean       0.003200      0.007900      0.016100       0.00160      0.053300   \n",
      "std        0.056481      0.088535      0.125866       0.03997      0.224642   \n",
      "min        0.000000      0.000000      0.000000       0.00000      0.000000   \n",
      "25%        0.000000      0.000000      0.000000       0.00000      0.000000   \n",
      "50%        0.000000      0.000000      0.000000       0.00000      0.000000   \n",
      "75%        0.000000      0.000000      0.000000       0.00000      0.000000   \n",
      "max        1.000000      1.000000      1.000000       1.00000      1.000000   \n",
      "\n",
      "       Soil_Type_23  Soil_Type_24  Soil_Type_25  Soil_Type_26  Soil_Type_27  \\\n",
      "count  10000.000000  10000.000000  10000.000000  10000.000000  10000.000000   \n",
      "mean       0.096700      0.035200      0.001000      0.003600      0.002200   \n",
      "std        0.295564      0.184294      0.031609      0.059895      0.046855   \n",
      "min        0.000000      0.000000      0.000000      0.000000      0.000000   \n",
      "25%        0.000000      0.000000      0.000000      0.000000      0.000000   \n",
      "50%        0.000000      0.000000      0.000000      0.000000      0.000000   \n",
      "75%        0.000000      0.000000      0.000000      0.000000      0.000000   \n",
      "max        1.000000      1.000000      1.000000      1.000000      1.000000   \n",
      "\n",
      "       Soil_Type_28  Soil_Type_29  Soil_Type_30  Soil_Type_31  Soil_Type_32  \\\n",
      "count  10000.000000  10000.000000  10000.000000  10000.000000  10000.000000   \n",
      "mean       0.001300      0.197900      0.054400      0.046000      0.091200   \n",
      "std        0.036034      0.398436      0.226817      0.209496      0.287908   \n",
      "min        0.000000      0.000000      0.000000      0.000000      0.000000   \n",
      "25%        0.000000      0.000000      0.000000      0.000000      0.000000   \n",
      "50%        0.000000      0.000000      0.000000      0.000000      0.000000   \n",
      "75%        0.000000      0.000000      0.000000      0.000000      0.000000   \n",
      "max        1.000000      1.000000      1.000000      1.000000      1.000000   \n",
      "\n",
      "       Soil_Type_33  Soil_Type_34  Soil_Type_35  Soil_Type_36  Soil_Type_37  \\\n",
      "count  10000.000000   10000.00000   10000.00000  10000.000000  10000.000000   \n",
      "mean       0.082900       0.00250       0.00250      0.000200      0.000500   \n",
      "std        0.275745       0.04994       0.04994      0.014141      0.022356   \n",
      "min        0.000000       0.00000       0.00000      0.000000      0.000000   \n",
      "25%        0.000000       0.00000       0.00000      0.000000      0.000000   \n",
      "50%        0.000000       0.00000       0.00000      0.000000      0.000000   \n",
      "75%        0.000000       0.00000       0.00000      0.000000      0.000000   \n",
      "max        1.000000       1.00000       1.00000      1.000000      1.000000   \n",
      "\n",
      "       Soil_Type_38  Soil_Type_39  Soil_Type_40  \n",
      "count  10000.000000  10000.000000  10000.000000  \n",
      "mean       0.026800      0.024500      0.013600  \n",
      "std        0.161507      0.154603      0.115829  \n",
      "min        0.000000      0.000000      0.000000  \n",
      "25%        0.000000      0.000000      0.000000  \n",
      "50%        0.000000      0.000000      0.000000  \n",
      "75%        0.000000      0.000000      0.000000  \n",
      "max        1.000000      1.000000      1.000000  \n"
     ]
    }
   ],
   "source": [
    "print(X.describe())"
   ]
  },
  {
   "cell_type": "code",
   "execution_count": 5,
   "metadata": {
    "tags": []
   },
   "outputs": [],
   "source": [
    "# ---- Scale Data ----\n",
    "\n",
    "# Initialize scaler\n",
    "scaler = StandardScaler()\n",
    "\n",
    "columns_to_scale = X.columns\n",
    "\n",
    "X[columns_to_scale] = scaler.fit_transform(X[columns_to_scale])"
   ]
  },
  {
   "cell_type": "code",
   "execution_count": 6,
   "metadata": {
    "tags": []
   },
   "outputs": [],
   "source": [
    "# Split data into training and test sets\n",
    "X_train, X_test, y_train, y_test = train_test_split(X, y, test_size = 0.3, random_state = 808)"
   ]
  },
  {
   "cell_type": "markdown",
   "metadata": {},
   "source": [
    "### Step 2: Hyperparameter Tuning for SVM\n",
    "To optimize our SVM model, we need to search for the best hyperparameters that maximize classification accuracy. Since SVM performance depends heavily on `C`, `kernel`, and `gamma`, we will use `GridSearchCV()` to systematically test different combinations. Initialize a cross validation object with 5 folds using `StratifiedKFold`. Check out how `StratifiedKFold` differs from `Kfold` [here](https://scikit-learn.org/stable/modules/generated/sklearn.model_selection.StratifiedKFold.html). \n",
    "\n",
    "Then, set up a grid to test different values of: \n",
    "- `C` (regularization strength): how strictly the model fits the training data\n",
    "  - Candidate parameter values: `(0.1, 1, 10, 100)`\n",
    "- `kernel` (decision boundary shape): compares linear and radial basis function shapes\n",
    "  - Candidate parameter values: (linear, rbf)\n",
    "- `gamma` (influence of training observations): influence of individual points on decision boundary\n",
    "  - Candidate parameter values: (scale, auto)\n",
    "\n",
    "As models and datasets become more complex, consideration of computation time becomes more important.  You'll use `time.time()` to measure the time required to fit the grid object.  \n",
    "\n",
    "**Print the best parameters from your model, as well as the time required to fit the grid object.** "
   ]
  },
  {
   "cell_type": "code",
   "execution_count": 7,
   "metadata": {
    "tags": []
   },
   "outputs": [],
   "source": [
    "# Define hyperparameters for svm\n",
    "param_grid_svm = { 'C': [0.1,1,10,100],\n",
    "                 'kernel': ['linear','rbf'],\n",
    "                 'gamma': ['scale','auto']}\n",
    "\n",
    "\n",
    "# Initalize SVM classifier\n",
    "svm = SVC(random_state = 808)\n",
    "\n",
    "# Initialize Statified Kfold\n",
    "kfold = StratifiedKFold(n_splits = 5) # should I shuffle\n",
    "\n",
    "\n",
    "# Initialize Grid Search\n",
    "grid_search_svm = GridSearchCV(svm,\n",
    "                               param_grid_svm,\n",
    "                               cv = kfold,\n",
    "                               n_jobs = 5,\n",
    "                               verbose = 0)\n",
    "    "
   ]
  },
  {
   "cell_type": "code",
   "execution_count": 8,
   "metadata": {
    "tags": []
   },
   "outputs": [],
   "source": [
    "# Record SVM start time\n",
    "start_time_svm = time.time()\n",
    "\n",
    "# Fit SVM grid search\n",
    "grid_search_svm.fit(X_train, y_train)\n",
    "\n",
    "# Record SVM end time\n",
    "end_time_svm = time.time()"
   ]
  },
  {
   "cell_type": "code",
   "execution_count": 9,
   "metadata": {
    "tags": []
   },
   "outputs": [
    {
     "name": "stdout",
     "output_type": "stream",
     "text": [
      "Elapsed time for svm grid search: 1137.2858402729034\n"
     ]
    }
   ],
   "source": [
    "# Calculate elapsed time for SVM grid search\n",
    "elapsed_time_svm = end_time_svm - start_time_svm\n",
    "print(\"Elapsed time for svm grid search:\", elapsed_time_svm)"
   ]
  },
  {
   "cell_type": "code",
   "execution_count": 10,
   "metadata": {
    "tags": []
   },
   "outputs": [
    {
     "name": "stdout",
     "output_type": "stream",
     "text": [
      "The best params for SVM are: {'C': 100, 'gamma': 'auto', 'kernel': 'rbf'}\n"
     ]
    }
   ],
   "source": [
    "# Best SVM model\n",
    "best_svm = grid_search_svm.best_estimator_\n",
    "y_train_pred_svm = best_svm.predict(X_train)\n",
    "y_test_pred_svm = best_svm.predict(X_test)\n",
    "\n",
    "print(\"The best params for SVM are:\", grid_search_svm.best_params_)"
   ]
  },
  {
   "cell_type": "markdown",
   "metadata": {},
   "source": [
    "### Step 3: Build a fit a Random Forest for comparison\n",
    "\n",
    "Let's compare our SVM to a Random Forest classifier.  Create a grid for cross-validation with three hyperparameters of your choice to tune, along with three sensible values for each one.  \n",
    "**Print the best parameters from your model, as well as the time required to fit the grid object.** "
   ]
  },
  {
   "cell_type": "code",
   "execution_count": 11,
   "metadata": {},
   "outputs": [],
   "source": [
    "# Define hyperparameter for rf\n",
    "param_grid_rf = {\n",
    "    \"n_estimators\":[100, 500, 1000],\n",
    "    \"max_features\":[\"sqrt\", 10, None],\n",
    "    \"max_depth\":[4,6],\n",
    "    \"min_samples_split\":[2,6]\n",
    "}\n",
    "\n",
    "\n",
    "# Initialize Random Forest Classifier\n",
    "rf = RandomForestClassifier(random_state = 808)\n",
    "\n",
    "# Initialize Grid Search\n",
    "grid_search_rf = GridSearchCV(rf,\n",
    "                     param_grid_rf,\n",
    "                     cv = kfold,\n",
    "                     n_jobs = 5,\n",
    "                     verbose = 0)"
   ]
  },
  {
   "cell_type": "code",
   "execution_count": 12,
   "metadata": {
    "tags": []
   },
   "outputs": [],
   "source": [
    "# Record RF start time\n",
    "start_time_rf = time.time()\n",
    "\n",
    "# Fit RF grid search\n",
    "grid_search_rf.fit(X_train, y_train)\n",
    "\n",
    "# Record RF end time\n",
    "end_time_rf = time.time()"
   ]
  },
  {
   "cell_type": "code",
   "execution_count": 13,
   "metadata": {
    "tags": []
   },
   "outputs": [
    {
     "name": "stdout",
     "output_type": "stream",
     "text": [
      "Elapsed time for rf grid search: 133.23404383659363\n"
     ]
    }
   ],
   "source": [
    "# Calculate elapsed time for RF grid search\n",
    "elapsed_time_rf = end_time_rf - start_time_rf\n",
    "print(\"Elapsed time for rf grid search:\", elapsed_time_rf)"
   ]
  },
  {
   "cell_type": "code",
   "execution_count": 14,
   "metadata": {
    "tags": []
   },
   "outputs": [
    {
     "name": "stdout",
     "output_type": "stream",
     "text": [
      "The best params for RF are: {'max_depth': 6, 'max_features': None, 'min_samples_split': 2, 'n_estimators': 100}\n"
     ]
    }
   ],
   "source": [
    "# Best SVM model\n",
    "best_rf = grid_search_rf.best_estimator_\n",
    "y_train_pred_rf = best_rf.predict(X_train)\n",
    "y_test_pred_rf = best_rf.predict(X_test)\n",
    "print(\"The best params for RF are:\", grid_search_rf.best_params_)"
   ]
  },
  {
   "cell_type": "markdown",
   "metadata": {},
   "source": [
    "### Step 4: Model Predictions and Evaluation\n",
    "Now that you have trained and optimized both a SVM and RF model, you will evaluate their performances on the test set to prepare for model comparison. In this step, you will:\n",
    "- Use the best models from `GridSearchCV()` to make predictions on the test set\n",
    "- Generate a confusion matrix for each model to visualize classification performance\n"
   ]
  },
  {
   "cell_type": "code",
   "execution_count": 15,
   "metadata": {
    "tags": []
   },
   "outputs": [],
   "source": [
    "# Initalize SVM model with best params\n",
    "svm_best_params = SVC(**grid_search_svm.best_params_,\n",
    "                      random_state = 808)\n",
    "\n",
    "# Train SVM model\n",
    "svm_best_params.fit(X_train, y_train)\n",
    "\n",
    "# Generate SVM test predictions\n",
    "svm_best_pred = svm_best_params.predict(X_test)"
   ]
  },
  {
   "cell_type": "code",
   "execution_count": 16,
   "metadata": {
    "tags": []
   },
   "outputs": [],
   "source": [
    "# Initalize rf model with best params\n",
    "rf_best_params = RandomForestClassifier(**grid_search_rf.best_params_,\n",
    "                      random_state = 808)\n",
    "\n",
    "# Train rf model\n",
    "rf_best_params.fit(X_train, y_train)\n",
    "\n",
    "# Generate rf test predictions\n",
    "rf_best_pred = rf_best_params.predict(X_test)"
   ]
  },
  {
   "cell_type": "code",
   "execution_count": 17,
   "metadata": {
    "tags": []
   },
   "outputs": [
    {
     "data": {
      "image/png": "[encoded data removed]",
      "text/plain": [
       "<Figure size 600x600 with 2 Axes>"
      ]
     },
     "metadata": {},
     "output_type": "display_data"
    }
   ],
   "source": [
    "# Create SVM confusion matrix\n",
    "svm_matrix = confusion_matrix(y_test, svm_best_pred)\n",
    "\n",
    "# Plot SVM confusion matrix\n",
    "plt.figure(figsize = (6,6))\n",
    "sns.heatmap(svm_matrix,\n",
    "            fmt = 'd',\n",
    "            cmap = 'Purples',\n",
    "            annot = True)\n",
    "plt.title('SVM Model Confusion Matrix')\n",
    "plt.ylabel('Actual')\n",
    "plt.xlabel('Prediction')\n",
    "\n",
    "\n",
    "plt.show()"
   ]
  },
  {
   "cell_type": "code",
   "execution_count": 18,
   "metadata": {
    "tags": []
   },
   "outputs": [
    {
     "data": {
      "text/plain": [
       "Text(0.5, 36.72222222222221, 'Prediction')"
      ]
     },
     "execution_count": 18,
     "metadata": {},
     "output_type": "execute_result"
    },
    {
     "data": {
      "image/png": "[encoded data removed]",
      "text/plain": [
       "<Figure size 600x600 with 2 Axes>"
      ]
     },
     "metadata": {},
     "output_type": "display_data"
    }
   ],
   "source": [
    "# Create RF confusino matrix\n",
    "rf_matrix = confusion_matrix(y_test, rf_best_pred)\n",
    "\n",
    "# Plot RF confusion matrix\n",
    "plt.figure(figsize = (6,6))\n",
    "sns.heatmap(rf_matrix,\n",
    "            fmt = 'd',\n",
    "            cmap = 'Purples',\n",
    "            annot = True)\n",
    "plt.title('Random Forest Model Confusion Matrix')\n",
    "plt.ylabel('Actual')\n",
    "plt.xlabel('Prediction')"
   ]
  },
  {
   "cell_type": "markdown",
   "metadata": {},
   "source": [
    "### Step 5: Gather and display additional performance metrics\n",
    "Now display the accuracy score and training time required for each model to so we can compare the models."
   ]
  },
  {
   "cell_type": "code",
   "execution_count": 19,
   "metadata": {},
   "outputs": [
    {
     "name": "stdout",
     "output_type": "stream",
     "text": [
      "SVM accuracy score: 0.770\n",
      "SVM training time: 1137.29 seconds\n",
      "RF accuracy: 0.735\n",
      "RF training time: 133.23 seconds\n"
     ]
    }
   ],
   "source": [
    "# Display additional performance metrics\n",
    "print(f\"SVM accuracy score: {accuracy_score(y_test, svm_best_pred):.3f}\")\n",
    "      \n",
    "print(f\"SVM training time: {elapsed_time_svm:.2f} seconds\")\n",
    "      \n",
    "      \n",
    "print(f\"RF accuracy: {accuracy_score(y_test, rf_best_pred):.3f}\")\n",
    "print(f\"RF training time: {elapsed_time_rf:.2f} seconds\")"
   ]
  },
  {
   "cell_type": "markdown",
   "metadata": {},
   "source": [
    "### Step 6: Compare the models\n",
    "Now that we have trained, optimized, and evaluated both SVM and RF models, we will compare them based on overall accuracy, training time, and types of errors made.\n",
    "\n",
    "Based on these comparisons, which model is more suitable for this task?  \n"
   ]
  },
  {
   "cell_type": "markdown",
   "metadata": {},
   "source": [
    "Based on my results, the SWM model performed better than the RF model. The accuracy score for the SWM was .77 verses .73 for the RF model. In addition to having a better accuracy score, the SWM model performed better across all predictor variables in the confusion matrix. The SWM model was also significantly more computationally intensive, it took over 18 minutes to run while the Random Forest ran in just over 2 minutes. Even with the longer computation time, I think that 18 minutes is a reasonable cost for the added accuracy and ability for the SWM model to perform better across all of the predictor variables makes it a more suitable model for this task."
   ]
  },
  {
   "cell_type": "code",
   "execution_count": null,
   "metadata": {},
   "outputs": [],
   "source": []
  }
 ],
 "metadata": {
  "kernelspec": {
   "display_name": "Python 3 (ipykernel)",
   "language": "python",
   "name": "python3"
  },
  "language_info": {
   "codemirror_mode": {
    "name": "ipython",
    "version": 3
   },
   "file_extension": ".py",
   "mimetype": "text/x-python",
   "name": "python",
   "nbconvert_exporter": "python",
   "pygments_lexer": "ipython3",
   "version": "3.7.13"
  }
 },
 "nbformat": 4,
 "nbformat_minor": 4
}
